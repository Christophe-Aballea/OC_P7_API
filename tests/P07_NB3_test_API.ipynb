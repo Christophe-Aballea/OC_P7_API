{
 "cells": [
  {
   "cell_type": "markdown",
   "id": "20c43a0e-372c-4af5-b2bb-2479e04121ba",
   "metadata": {},
   "source": [
    "# Implémentez un modèle de scoring\n",
    "## Notebook 3b - Test de l'API  \n",
    "OpenClassrooms - Parcours Data Scientist - Projet 07  "
   ]
  },
  {
   "cell_type": "code",
   "execution_count": 1,
   "id": "04b8e732-b522-44d3-815a-116be94dd2a2",
   "metadata": {},
   "outputs": [],
   "source": [
    "import pandas as pd\n",
    "import requests\n",
    "import json\n",
    "import os"
   ]
  },
  {
   "cell_type": "code",
   "execution_count": 3,
   "id": "cc2daba8-5138-4dfd-aa61-63755fa39747",
   "metadata": {},
   "outputs": [],
   "source": [
    "# Récupération des données de test\n",
    "base_dir = os.getcwd()\n",
    "df_test_median_path = os.path.join(base_dir, '..', 'data', 'df_test_median.csv')\n",
    "df_test = pd.read_csv(df_test_median_path, index_col=None).drop(columns='SK_ID_CURR')"
   ]
  },
  {
   "cell_type": "code",
   "execution_count": 4,
   "id": "cf3048e5-dd0f-494d-ab10-3194688d1f49",
   "metadata": {},
   "outputs": [],
   "source": [
    "# Sélection d'un exemple\n",
    "df_subset = df_test.sample(2)"
   ]
  },
  {
   "cell_type": "code",
   "execution_count": 5,
   "id": "05938801-e03c-4e31-9602-8a7bd4691903",
   "metadata": {},
   "outputs": [],
   "source": [
    "# Conversion au format JSON\n",
    "data_json = json.dumps({\"data\": df_subset.values.tolist()})"
   ]
  },
  {
   "cell_type": "code",
   "execution_count": 6,
   "id": "55b7911e-f7ab-4f29-956c-861f56683d61",
   "metadata": {},
   "outputs": [],
   "source": [
    "# Envoi de la requête POST à l'API\n",
    "response = requests.post('http://127.0.0.1:5002/predict', headers={'Content-Type': 'application/json'}, data=data_json)"
   ]
  },
  {
   "cell_type": "code",
   "execution_count": 7,
   "id": "e56e5bd0-00de-48ca-9f5c-8a065eb5e284",
   "metadata": {},
   "outputs": [
    {
     "name": "stdout",
     "output_type": "stream",
     "text": [
      "[0.42525689795059607, 0.2905583120729243]\n"
     ]
    }
   ],
   "source": [
    "# Afficher la réponse\n",
    "print(response.json())"
   ]
  },
  {
   "cell_type": "code",
   "execution_count": null,
   "id": "d74099d2-0d95-4551-97ff-a04354a9effd",
   "metadata": {},
   "outputs": [],
   "source": []
  }
 ],
 "metadata": {
  "kernelspec": {
   "display_name": "Python 3 (ipykernel)",
   "language": "python",
   "name": "python3"
  },
  "language_info": {
   "codemirror_mode": {
    "name": "ipython",
    "version": 3
   },
   "file_extension": ".py",
   "mimetype": "text/x-python",
   "name": "python",
   "nbconvert_exporter": "python",
   "pygments_lexer": "ipython3",
   "version": "3.11.9"
  }
 },
 "nbformat": 4,
 "nbformat_minor": 5
}
