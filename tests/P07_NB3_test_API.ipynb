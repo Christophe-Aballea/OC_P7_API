{
 "cells": [
  {
   "cell_type": "markdown",
   "id": "20c43a0e-372c-4af5-b2bb-2479e04121ba",
   "metadata": {},
   "source": [
    "# Implémentez un modèle de scoring\n",
    "## Notebook 3b - Test de l'API  \n",
    "OpenClassrooms - Parcours Data Scientist - Projet 07  "
   ]
  },
  {
   "cell_type": "code",
   "execution_count": 1,
   "id": "04b8e732-b522-44d3-815a-116be94dd2a2",
   "metadata": {},
   "outputs": [],
   "source": [
    "import pandas as pd\n",
    "import requests\n",
    "import json\n",
    "import os"
   ]
  },
  {
   "cell_type": "code",
   "execution_count": 2,
   "id": "c407b472-f27a-428a-94ac-79d1d22b0be6",
   "metadata": {},
   "outputs": [],
   "source": [
    "# Nombre d'exemples à tester\n",
    "n_samples = 10"
   ]
  },
  {
   "cell_type": "code",
   "execution_count": 3,
   "id": "cc2daba8-5138-4dfd-aa61-63755fa39747",
   "metadata": {},
   "outputs": [],
   "source": [
    "# Récupération des données de test\n",
    "base_dir = os.getcwd()\n",
    "df_test_median_path = os.path.join(base_dir, '..', '..', 'P07 - Implémentez un modèle de scoring', 'df_test_median.csv')\n",
    "df_test = pd.read_csv(df_test_median_path, index_col=None)"
   ]
  },
  {
   "cell_type": "code",
   "execution_count": 4,
   "id": "cf3048e5-dd0f-494d-ab10-3194688d1f49",
   "metadata": {},
   "outputs": [],
   "source": [
    "# Sélection aléatoire de n_samples exemples\n",
    "df_subset = df_test.sample(n_samples)"
   ]
  },
  {
   "cell_type": "code",
   "execution_count": 5,
   "id": "01e4dbf4-0f6b-4992-a5c4-3f5b564c46b9",
   "metadata": {},
   "outputs": [],
   "source": [
    "# Récupération des id clients\n",
    "sk_id_curr = df_subset['SK_ID_CURR'].astype('int')"
   ]
  },
  {
   "cell_type": "code",
   "execution_count": 6,
   "id": "05938801-e03c-4e31-9602-8a7bd4691903",
   "metadata": {},
   "outputs": [],
   "source": [
    "# Conversion au format JSON\n",
    "data_json = json.dumps({\"data\": df_subset.drop(columns='SK_ID_CURR').values.tolist()})"
   ]
  },
  {
   "cell_type": "code",
   "execution_count": 7,
   "id": "55b7911e-f7ab-4f29-956c-861f56683d61",
   "metadata": {},
   "outputs": [],
   "source": [
    "# Envoi de la requête POST à l'API publiée sur Heroku\n",
    "response = requests.post(\n",
    "    'https://failurerepay-35fab8d4873c.herokuapp.com/predict',\n",
    "    headers={'Content-Type': 'application/json'},\n",
    "    data=data_json\n",
    ")"
   ]
  },
  {
   "cell_type": "code",
   "execution_count": 8,
   "id": "06429319-4dac-400d-b7f4-7f966a98a0ec",
   "metadata": {},
   "outputs": [],
   "source": [
    "# DataFrame pour affichage des probabilités de défaut et accord ou non de crédit\n",
    "predictions = pd.DataFrame({'Customer id': sk_id_curr.values.tolist(), 'Failure probability': response.json()})\n",
    "predictions['Credit agreement'] = predictions['Failure probability'] < 0.51\n",
    "predictions['Failure probability'] = round(predictions['Failure probability'], 2)"
   ]
  },
  {
   "cell_type": "code",
   "execution_count": 9,
   "id": "ae08d756-e2c8-437c-b915-6c3ed8f05365",
   "metadata": {},
   "outputs": [
    {
     "data": {
      "text/html": [
       "<div>\n",
       "<style scoped>\n",
       "    .dataframe tbody tr th:only-of-type {\n",
       "        vertical-align: middle;\n",
       "    }\n",
       "\n",
       "    .dataframe tbody tr th {\n",
       "        vertical-align: top;\n",
       "    }\n",
       "\n",
       "    .dataframe thead th {\n",
       "        text-align: right;\n",
       "    }\n",
       "</style>\n",
       "<table border=\"1\" class=\"dataframe\">\n",
       "  <thead>\n",
       "    <tr style=\"text-align: right;\">\n",
       "      <th></th>\n",
       "      <th>Customer id</th>\n",
       "      <th>Failure probability</th>\n",
       "      <th>Credit agreement</th>\n",
       "    </tr>\n",
       "  </thead>\n",
       "  <tbody>\n",
       "    <tr>\n",
       "      <th>0</th>\n",
       "      <td>429103</td>\n",
       "      <td>0.28</td>\n",
       "      <td>True</td>\n",
       "    </tr>\n",
       "    <tr>\n",
       "      <th>1</th>\n",
       "      <td>417423</td>\n",
       "      <td>0.39</td>\n",
       "      <td>True</td>\n",
       "    </tr>\n",
       "    <tr>\n",
       "      <th>2</th>\n",
       "      <td>436363</td>\n",
       "      <td>0.26</td>\n",
       "      <td>True</td>\n",
       "    </tr>\n",
       "    <tr>\n",
       "      <th>3</th>\n",
       "      <td>378322</td>\n",
       "      <td>0.49</td>\n",
       "      <td>True</td>\n",
       "    </tr>\n",
       "    <tr>\n",
       "      <th>4</th>\n",
       "      <td>328758</td>\n",
       "      <td>0.71</td>\n",
       "      <td>False</td>\n",
       "    </tr>\n",
       "    <tr>\n",
       "      <th>5</th>\n",
       "      <td>388899</td>\n",
       "      <td>0.53</td>\n",
       "      <td>False</td>\n",
       "    </tr>\n",
       "    <tr>\n",
       "      <th>6</th>\n",
       "      <td>154990</td>\n",
       "      <td>0.68</td>\n",
       "      <td>False</td>\n",
       "    </tr>\n",
       "    <tr>\n",
       "      <th>7</th>\n",
       "      <td>305046</td>\n",
       "      <td>0.66</td>\n",
       "      <td>False</td>\n",
       "    </tr>\n",
       "    <tr>\n",
       "      <th>8</th>\n",
       "      <td>359381</td>\n",
       "      <td>0.22</td>\n",
       "      <td>True</td>\n",
       "    </tr>\n",
       "    <tr>\n",
       "      <th>9</th>\n",
       "      <td>414660</td>\n",
       "      <td>0.27</td>\n",
       "      <td>True</td>\n",
       "    </tr>\n",
       "  </tbody>\n",
       "</table>\n",
       "</div>"
      ],
      "text/plain": [
       "   Customer id  Failure probability  Credit agreement\n",
       "0       429103                 0.28              True\n",
       "1       417423                 0.39              True\n",
       "2       436363                 0.26              True\n",
       "3       378322                 0.49              True\n",
       "4       328758                 0.71             False\n",
       "5       388899                 0.53             False\n",
       "6       154990                 0.68             False\n",
       "7       305046                 0.66             False\n",
       "8       359381                 0.22              True\n",
       "9       414660                 0.27              True"
      ]
     },
     "metadata": {},
     "output_type": "display_data"
    }
   ],
   "source": [
    "# Affichage\n",
    "display(predictions)"
   ]
  }
 ],
 "metadata": {
  "kernelspec": {
   "display_name": "Python 3 (ipykernel)",
   "language": "python",
   "name": "python3"
  },
  "language_info": {
   "codemirror_mode": {
    "name": "ipython",
    "version": 3
   },
   "file_extension": ".py",
   "mimetype": "text/x-python",
   "name": "python",
   "nbconvert_exporter": "python",
   "pygments_lexer": "ipython3",
   "version": "3.11.9"
  }
 },
 "nbformat": 4,
 "nbformat_minor": 5
}
