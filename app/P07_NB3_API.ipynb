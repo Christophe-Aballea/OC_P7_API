{
 "cells": [
  {
   "cell_type": "markdown",
   "id": "b210eec9-36c3-4e76-9e79-d21d7aa70323",
   "metadata": {},
   "source": [
    "# Implémentez un modèle de scoring\n",
    "## Notebook 3 - API  \n",
    "OpenClassrooms - Parcours Data Scientist - Projet 07  "
   ]
  },
  {
   "cell_type": "markdown",
   "id": "2a6d4da8-c633-46bf-aa29-2b188ef14534",
   "metadata": {},
   "source": [
    "## 1. Imports"
   ]
  },
  {
   "cell_type": "code",
   "execution_count": 1,
   "id": "f1ff09bf-af6f-4a55-a12b-ab4b37858e53",
   "metadata": {},
   "outputs": [],
   "source": [
    "import pandas as pd\n",
    "import mlflow\n",
    "import mlflow.sklearn\n",
    "from sklearn.linear_model import LogisticRegression\n",
    "from sklearn.preprocessing import StandardScaler\n",
    "import joblib\n",
    "import warnings\n",
    "import os"
   ]
  },
  {
   "cell_type": "markdown",
   "id": "f3eeeb2e-34a2-4206-9690-efbf493d81ee",
   "metadata": {},
   "source": [
    "## 2. Paramétrages"
   ]
  },
  {
   "cell_type": "code",
   "execution_count": 2,
   "id": "e349fa16-f601-486b-99aa-0ed0a20b85c9",
   "metadata": {},
   "outputs": [],
   "source": [
    "warnings.filterwarnings('ignore')"
   ]
  },
  {
   "cell_type": "code",
   "execution_count": 3,
   "id": "7546f76e-bac3-4eec-8832-42d0afb7e760",
   "metadata": {},
   "outputs": [],
   "source": [
    "mlflow.set_tracking_uri(\"http://127.0.0.1:5001\")"
   ]
  },
  {
   "cell_type": "code",
   "execution_count": null,
   "id": "d6ded593-dbc2-4cac-884e-83c229b6d36c",
   "metadata": {},
   "outputs": [],
   "source": [
    "base_dir = os.getcwd()\n",
    "scaler_path = os.path.join(base_dir, '..', 'data', 'scaler.pkl')\n",
    "run_id_path = os.path.join(base_dir, '..', 'data', 'run_id.txt')\n",
    "df_train_median_path = os.path.join(base_dir, '..', 'data', 'df_train_median.csv')"
   ]
  },
  {
   "cell_type": "markdown",
   "id": "8a14e88d-a59e-4c95-b609-c707cf2e906b",
   "metadata": {},
   "source": [
    "## 3. Données"
   ]
  },
  {
   "cell_type": "markdown",
   "id": "ad5a9dc9-edfe-48b1-87bd-8481b2952099",
   "metadata": {},
   "source": [
    "### 3.1. Chargement"
   ]
  },
  {
   "cell_type": "code",
   "execution_count": 4,
   "id": "076334e5-8884-414b-82d8-e855cccaee57",
   "metadata": {},
   "outputs": [],
   "source": [
    "df_train = pd.read_csv(df_train_median_path)\n",
    "\n",
    "X_train = df_train.drop(columns=['TARGET', 'SK_ID_CURR'])\n",
    "y_train = df_train['TARGET']"
   ]
  },
  {
   "cell_type": "markdown",
   "id": "29fad357-b964-412c-bfe2-0a4a436b00eb",
   "metadata": {},
   "source": [
    "### 3.2. Mise à l'échelle"
   ]
  },
  {
   "cell_type": "code",
   "execution_count": 5,
   "id": "d8df7e46-4d40-4154-a366-3ae4b190198e",
   "metadata": {},
   "outputs": [],
   "source": [
    "scaler = StandardScaler().fit(X_train.values)\n",
    "X_train = scaler.transform(X_train.values)"
   ]
  },
  {
   "cell_type": "markdown",
   "id": "63f6e2a7-4978-4f8e-9459-6b80b6d3e951",
   "metadata": {},
   "source": [
    "### 3.3. Sauvegarde du scaler"
   ]
  },
  {
   "cell_type": "code",
   "execution_count": 6,
   "id": "8dcf2444-e410-4398-8fb6-c52a987f995e",
   "metadata": {},
   "outputs": [
    {
     "data": {
      "text/plain": [
       "['../data/scaler.pkl']"
      ]
     },
     "execution_count": 6,
     "metadata": {},
     "output_type": "execute_result"
    }
   ],
   "source": [
    "joblib.dump(scaler, scaler_path)"
   ]
  },
  {
   "cell_type": "markdown",
   "id": "b6379589-1df5-484f-a580-d5b7afa5df6d",
   "metadata": {},
   "source": [
    "## 4. Entraînement du modèle et enregistrement MLflow"
   ]
  },
  {
   "cell_type": "code",
   "execution_count": 7,
   "id": "b84e87b1-ddde-456e-885d-d5d9496c1784",
   "metadata": {},
   "outputs": [],
   "source": [
    "with mlflow.start_run(run_name=\"LogisticRegressionModel\") as run:\n",
    "    # Entraînement du modèle\n",
    "    lr_model = LogisticRegression(C=5e-05, class_weight='balanced', max_iter=10000, solver='lbfgs')\n",
    "    lr_model.fit(X_train, y_train)\n",
    "    # Enregistrement dans MLflow\n",
    "    mlflow.sklearn.log_model(lr_model, \"LogisticRegressionModel\")\n",
    "    # Récupération et enregistrement du run_id\n",
    "    run_id = run.info.run_id\n",
    "    with open(run_id_path, \"w\") as f:\n",
    "        f.write(run_id)"
   ]
  },
  {
   "cell_type": "code",
   "execution_count": null,
   "id": "45718bed-80d8-4570-bd45-4a8a5dcb7afe",
   "metadata": {},
   "outputs": [],
   "source": []
  }
 ],
 "metadata": {
  "kernelspec": {
   "display_name": "Python 3 (ipykernel)",
   "language": "python",
   "name": "python3"
  },
  "language_info": {
   "codemirror_mode": {
    "name": "ipython",
    "version": 3
   },
   "file_extension": ".py",
   "mimetype": "text/x-python",
   "name": "python",
   "nbconvert_exporter": "python",
   "pygments_lexer": "ipython3",
   "version": "3.11.9"
  }
 },
 "nbformat": 4,
 "nbformat_minor": 5
}
